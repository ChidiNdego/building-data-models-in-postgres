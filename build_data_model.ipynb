{
 "cells": [
  {
   "attachments": {},
   "cell_type": "markdown",
   "metadata": {},
   "source": [
    "# Creating a Table in PostgreSQL Database with Python"
   ]
  },
  {
   "attachments": {},
   "cell_type": "markdown",
   "metadata": {},
   "source": [
    "Psycopg is the most popular PostgreSQL database adapter for the Python programming language."
   ]
  },
  {
   "cell_type": "code",
   "execution_count": 2,
   "metadata": {},
   "outputs": [],
   "source": [
    "# Install dependencies\n",
    "!pip install psycopg2"
   ]
  },
  {
   "cell_type": "code",
   "execution_count": 3,
   "metadata": {},
   "outputs": [],
   "source": [
    "# Import the necessary library\n",
    "import psycopg2"
   ]
  },
  {
   "attachments": {},
   "cell_type": "markdown",
   "metadata": {},
   "source": [
    "Postgres creates a default database called `postgres`. To connect to this database, we use Psycopg's `connect()` function providing the host, dbname, user, and password as arguments."
   ]
  },
  {
   "cell_type": "code",
   "execution_count": 4,
   "metadata": {},
   "outputs": [],
   "source": [
    "# Create a connection to the database\n",
    "try:\n",
    "    conn = psycopg2.connect(\"host=localhost dbname=postgres user=postgres password=install_password\")\n",
    "except psycopg2.Error as e:\n",
    "    print(\"Error: Could not make connection to the Postgres database\")\n",
    "    print(e)"
   ]
  },
  {
   "attachments": {},
   "cell_type": "markdown",
   "metadata": {},
   "source": [
    "Return a cursor object using the connection created above. This helps one execute queries on the database."
   ]
  },
  {
   "cell_type": "code",
   "execution_count": 5,
   "metadata": {},
   "outputs": [],
   "source": [
    "# Use the connection to get a cursor that can be used to execute queries\n",
    "try:\n",
    "    cur = conn.cursor()\n",
    "except psycopg2.Error as e:\n",
    "    print(\"Error: Could not get cursor to the database\")\n",
    "    print(e)"
   ]
  },
  {
   "attachments": {},
   "cell_type": "markdown",
   "metadata": {},
   "source": [
    "By default, Psycopg opens a transaction before executing the first command: if the `commit()` method is not called, the effect of any data manipulation will be lost.\n",
    "\n",
    "Alternatively, to prevent running `commit()` after every query, we can use the `set_session(autocommit=True)` function to automatically persist all queries executed during the session."
   ]
  },
  {
   "cell_type": "code",
   "execution_count": 6,
   "metadata": {},
   "outputs": [],
   "source": [
    "# Set automatic commit to be true so that each action is committed wihthout having to call conn.commit() after each command\n",
    "conn.set_session(autocommit=True)"
   ]
  },
  {
   "attachments": {},
   "cell_type": "markdown",
   "metadata": {},
   "source": [
    "### Creating a database"
   ]
  },
  {
   "attachments": {},
   "cell_type": "markdown",
   "metadata": {},
   "source": [
    "To send a command to the database, we use the `execute()` method.\n",
    "\n",
    "For example, to create the `myfirstdb` database, we pass in PostgreSQL query syntax to create database as a string argument. See below:"
   ]
  },
  {
   "cell_type": "code",
   "execution_count": 7,
   "metadata": {},
   "outputs": [],
   "source": [
    "# create a 'myfirstdb' database to do the work in\n",
    "try:\n",
    "    cur.execute(\"create database myfirstdb\")\n",
    "except psycopg2.Error as e:\n",
    "    print(e)"
   ]
  },
  {
   "attachments": {},
   "cell_type": "markdown",
   "metadata": {},
   "source": [
    "Let's try to view the list of databases in our PostgreSQL server. \n",
    "\n",
    "- Open the Shell SQL (psql) application.\n",
    "NOTE: You must have installed PostgreSQL to access this command line terminal.\n",
    "\n",
    "- Press `Enter` on your keyboard to enter default values for `Server`, `Database`, `Port`, and `Username`. When it requests for `Password for user postgres`, please input the password created whilst installing PostgreSQL.\n",
    "\n",
    "- Type `\\l` to view the available databases.\n",
    "\n",
    "<img src=\"Images/img_1.png\" width=1000 height=400 />\n",
    "\n",
    "As shown above, our default database `postgres` and our newly created database `myfirstdb` are present."
   ]
  },
  {
   "attachments": {},
   "cell_type": "markdown",
   "metadata": {},
   "source": [
    "Let's try connecting to the `myfirstdb` database. But first, we need to close our communication with the default `postgres` database.\n",
    "\n",
    "We do this with the `close()` method."
   ]
  },
  {
   "cell_type": "code",
   "execution_count": 8,
   "metadata": {},
   "outputs": [],
   "source": [
    "# Now, close connection with default database\n",
    "\n",
    "try:\n",
    "    conn.close()\n",
    "except psycopg2.Error as e:\n",
    "    print(e)"
   ]
  },
  {
   "attachments": {},
   "cell_type": "markdown",
   "metadata": {},
   "source": [
    "Similarly, we connect to our database with the following codes."
   ]
  },
  {
   "cell_type": "code",
   "execution_count": 12,
   "metadata": {},
   "outputs": [],
   "source": [
    "# Create a connection to our myfirstdb database and get a new cursor\n",
    "# recall localhost == 127.0.0.1\n",
    "try:\n",
    "    conn = psycopg2.connect(\"host=127.0.0.1 dbname=myfirstdb user=postgres password=install_password\")\n",
    "except psycopg2.Error as e:\n",
    "    print(\"Error: Could not make connection to the Postgres database\")\n",
    "    print(e)\n",
    "\n",
    "try:\n",
    "    cur = conn.cursor()\n",
    "except psycopg2.Error as e:\n",
    "    print(\"Error: Could not get cursor to ther database\")\n",
    "\n",
    "conn.set_session(autocommit=True)"
   ]
  },
  {
   "attachments": {},
   "cell_type": "markdown",
   "metadata": {},
   "source": [
    "Let's create a `students` table in our database. This table will be made of six columns: `student_id`, `name`, `age`, `gender`, `subject`, and `marks`.\n",
    "\n",
    "Recall, we use the `execute()` method with our PostgreSQL query passed in as strings."
   ]
  },
  {
   "cell_type": "code",
   "execution_count": 14,
   "metadata": {},
   "outputs": [],
   "source": [
    "# create table for students which includes below columns\n",
    "## student_id, name, age, gender, subject, marks\n",
    "\n",
    "try:\n",
    "    cur.execute(\"CREATE TABLE IF NOT EXISTS students (student_id int, name varchar,\\\n",
    "        age int, gender varchar, subject varchar, marks int);\")\n",
    "except psycopg2.Error as e:\n",
    "    print(\"Error: Issue creating table\")\n",
    "    print(e)\n",
    "\n",
    "# To view created tables from the PostgreSQL shell terminal, \n",
    "## connect to the database using '\\c myfirstdb'\n",
    "## to display the tables in the database '\\dt'"
   ]
  },
  {
   "attachments": {},
   "cell_type": "markdown",
   "metadata": {},
   "source": [
    "Let's view the created table and and its columns.\n",
    "\n",
    "- We access the database using `\\c myfirstdb`\n",
    "\n",
    "- Next, `\\dt` displays the tables in the `myfirstdb` database\n",
    "\n",
    "<img src=\"Images/img_2.png\" width=800 height=300 />"
   ]
  },
  {
   "attachments": {},
   "cell_type": "markdown",
   "metadata": {},
   "source": [
    "### Inserting values to a table"
   ]
  },
  {
   "attachments": {},
   "cell_type": "markdown",
   "metadata": {},
   "source": [
    "Let's insert the following two rows into our `students` table.\n",
    "\n",
    "- First Row: 1, \"Raj\", 23,\"Male\",\"Python\", 85\n",
    "\n",
    "- Second Row: 2, \"Priya\", 22,\"Female\",\"Python\", 86"
   ]
  },
  {
   "cell_type": "code",
   "execution_count": 27,
   "metadata": {},
   "outputs": [],
   "source": [
    "try:\n",
    "    cur.execute(\"INSERT INTO students (student_id, name, age, gender, subject, marks)\\\n",
    "        VALUES (%s, %s, %s, %s, %s, %s)\", (2, \"Priya\", 22,\"Female\",\"Python\", 86))\n",
    "except psycopg2.Error as e:\n",
    "    print(\"Error: Inserting Rows\")\n",
    "    print(e)\n",
    "\n",
    "try:\n",
    "    cur.execute(\"INSERT INTO students (student_id, name, age, gender, subject, marks)\\\n",
    "        VALUES (%s, %s, %s, %s, %s, %s)\", (1, \"Raj\", 23,\"Male\",\"Python\", 85))\n",
    "except psycopg2.Error as e:\n",
    "    print(\"Error: Inserting Rows\")\n",
    "    print(e)"
   ]
  },
  {
   "attachments": {},
   "cell_type": "markdown",
   "metadata": {},
   "source": [
    "We can validate our data insertion.\n",
    "\n",
    "`fetchone()` method is used to retrieve data from the database by iteration."
   ]
  },
  {
   "cell_type": "code",
   "execution_count": 33,
   "metadata": {},
   "outputs": [
    {
     "name": "stdout",
     "output_type": "stream",
     "text": [
      "(2, 'Priya', 22, 'Female', 'Python', 86)\n",
      "(1, 'Raj', 23, 'Male', 'Python', 85)\n"
     ]
    }
   ],
   "source": [
    "try:\n",
    "    cur.execute(\"SELECT * FROM students;\")\n",
    "except psycopg2.Error as e:\n",
    "    print(\"Error: select *\")\n",
    "    print(e)\n",
    "\n",
    "row = cur.fetchone()\n",
    "while row:\n",
    "    print(row)\n",
    "    row = cur.fetchone()"
   ]
  },
  {
   "attachments": {},
   "cell_type": "markdown",
   "metadata": {},
   "source": [
    "Alternatively, we can directly query this via the shell terminal.\n",
    "\n",
    "<img src=\"Images/img_3.png\" width=800 height=200 />"
   ]
  },
  {
   "cell_type": "code",
   "execution_count": 34,
   "metadata": {},
   "outputs": [],
   "source": [
    "# finally, close your cursor and connection\n",
    "cur.close()\n",
    "conn.close()"
   ]
  },
  {
   "attachments": {},
   "cell_type": "markdown",
   "metadata": {},
   "source": [
    "#### Practice: Build a data model for the IMDB movie data. \n",
    "\n",
    "Insert data as a bulk - CSV or Pandas dataframe.\n",
    "\n",
    "Download the IMDB Movie dataset [here](https://www.kaggle.com/datasets/themrityunjaypathak/imdb-top-100-movies?resource=download)"
   ]
  },
  {
   "cell_type": "code",
   "execution_count": 35,
   "metadata": {},
   "outputs": [],
   "source": [
    "import pandas as pd"
   ]
  },
  {
   "cell_type": "code",
   "execution_count": 38,
   "metadata": {},
   "outputs": [],
   "source": [
    "imdb = pd.read_csv('movies.csv')\n",
    "imdb = imdb[['movie_name', 'year_of_release', 'category', 'run_time', 'genre', 'imdb_rating', 'votes', 'gross_total']]"
   ]
  },
  {
   "cell_type": "code",
   "execution_count": 39,
   "metadata": {},
   "outputs": [
    {
     "data": {
      "text/html": [
       "<div>\n",
       "<style scoped>\n",
       "    .dataframe tbody tr th:only-of-type {\n",
       "        vertical-align: middle;\n",
       "    }\n",
       "\n",
       "    .dataframe tbody tr th {\n",
       "        vertical-align: top;\n",
       "    }\n",
       "\n",
       "    .dataframe thead th {\n",
       "        text-align: right;\n",
       "    }\n",
       "</style>\n",
       "<table border=\"1\" class=\"dataframe\">\n",
       "  <thead>\n",
       "    <tr style=\"text-align: right;\">\n",
       "      <th></th>\n",
       "      <th>movie_name</th>\n",
       "      <th>year_of_release</th>\n",
       "      <th>category</th>\n",
       "      <th>run_time</th>\n",
       "      <th>genre</th>\n",
       "      <th>imdb_rating</th>\n",
       "      <th>votes</th>\n",
       "      <th>gross_total</th>\n",
       "    </tr>\n",
       "  </thead>\n",
       "  <tbody>\n",
       "    <tr>\n",
       "      <th>0</th>\n",
       "      <td>The Godfather</td>\n",
       "      <td>(1972)</td>\n",
       "      <td>R</td>\n",
       "      <td>175 min</td>\n",
       "      <td>Crime, Drama</td>\n",
       "      <td>9.2</td>\n",
       "      <td>1,860,471</td>\n",
       "      <td>$134.97M</td>\n",
       "    </tr>\n",
       "    <tr>\n",
       "      <th>1</th>\n",
       "      <td>The Silence of the Lambs</td>\n",
       "      <td>(1991)</td>\n",
       "      <td>R</td>\n",
       "      <td>118 min</td>\n",
       "      <td>Crime, Drama, Thriller</td>\n",
       "      <td>8.6</td>\n",
       "      <td>1,435,344</td>\n",
       "      <td>$130.74M</td>\n",
       "    </tr>\n",
       "  </tbody>\n",
       "</table>\n",
       "</div>"
      ],
      "text/plain": [
       "                 movie_name year_of_release category run_time  \\\n",
       "0             The Godfather          (1972)        R  175 min   \n",
       "1  The Silence of the Lambs          (1991)        R  118 min   \n",
       "\n",
       "                    genre  imdb_rating      votes gross_total  \n",
       "0            Crime, Drama          9.2  1,860,471    $134.97M  \n",
       "1  Crime, Drama, Thriller          8.6  1,435,344    $130.74M  "
      ]
     },
     "execution_count": 39,
     "metadata": {},
     "output_type": "execute_result"
    }
   ],
   "source": [
    "imdb.head(2)"
   ]
  },
  {
   "cell_type": "code",
   "execution_count": 40,
   "metadata": {},
   "outputs": [],
   "source": [
    "# Create a connection to our myfirstdb database and get a new cursor\n",
    "# recall localhost == 127.0.0.1\n",
    "try:\n",
    "    conn = psycopg2.connect(\"host=127.0.0.1 dbname=myfirstdb user=postgres password=install_password\")\n",
    "except psycopg2.Error as e:\n",
    "    print(\"Error: Could not make connection to the Postgres database\")\n",
    "    print(e)\n",
    "\n",
    "try:\n",
    "    cur = conn.cursor()\n",
    "except psycopg2.Error as e:\n",
    "    print(\"Error: Could not get cursor to ther database\")\n",
    "\n",
    "conn.set_session(autocommit=True)"
   ]
  },
  {
   "cell_type": "code",
   "execution_count": 41,
   "metadata": {},
   "outputs": [],
   "source": [
    "# let's create a new table imdb in our myfirstdb database\n",
    "try:\n",
    "    cur.execute(\"CREATE TABLE IF NOT EXISTS imdb (movie_name varchar, year_of_release varchar,\\\n",
    "        category varchar, run_time varchar, genre varchar, imdb_rating float, votes int, gross_total varchar);\")\n",
    "except psycopg2.Error as e:\n",
    "    print(\"Error: Issue creating table\")\n",
    "    print(e)\n"
   ]
  },
  {
   "cell_type": "code",
   "execution_count": 43,
   "metadata": {},
   "outputs": [],
   "source": [
    "imdb_5 = imdb.head()"
   ]
  },
  {
   "cell_type": "code",
   "execution_count": 50,
   "metadata": {},
   "outputs": [
    {
     "data": {
      "text/plain": [
       "('The Godfather',\n",
       " '(1972)',\n",
       " 'R',\n",
       " '175 min',\n",
       " 'Crime, Drama',\n",
       " 9.2,\n",
       " '1,860,471',\n",
       " '$134.97M')"
      ]
     },
     "execution_count": 50,
     "metadata": {},
     "output_type": "execute_result"
    }
   ],
   "source": [
    "tuple(imdb_5.iloc[0].values)"
   ]
  },
  {
   "cell_type": "code",
   "execution_count": 54,
   "metadata": {},
   "outputs": [
    {
     "name": "stdout",
     "output_type": "stream",
     "text": [
      "Error: Inserting Rows\n",
      "invalid input syntax for type integer: \"1,860,471\"\n",
      "LINE 1: ...', '(1972)', 'R', '175 min', 'Crime, Drama', 9.2, '1,860,471...\n",
      "                                                             ^\n",
      "\n"
     ]
    }
   ],
   "source": [
    "# Insert the first five rows of the imdb dataframe into the table\n",
    "\n",
    "try:\n",
    "    for i in range(len(imdb_5)):\n",
    "        cur.execute(\"INSERT INTO imdb (movie_name, year_of_release, category, run_time, genre, imdb_rating, votes, gross_total)\\\n",
    "            VALUES (%s, %s, %s, %s, %s, %s, %s, %s)\", tuple(imdb_5.iloc[i].values))\n",
    "except psycopg2.Error as e:\n",
    "    print(\"Error: Inserting Rows\")\n",
    "    print(e)\n",
    "\n",
    "# try:\n",
    "#     cur.execute(\"INSERT INTO students (student_id, name, age, gender, subject, marks)\\\n",
    "#         VALUES (%s, %s, %s, %s, %s, %s)\", (1, \"Raj\", 23,\"Male\",\"Python\", 85))\n",
    "# except psycopg2.Error as e:\n",
    "#     print(\"Error: Inserting Rows\")\n",
    "#     print(e)"
   ]
  },
  {
   "cell_type": "code",
   "execution_count": 55,
   "metadata": {},
   "outputs": [],
   "source": [
    "# Apparently, I erroneously modeled the votes column as integer. Let's update the type to varchar\n",
    "try:\n",
    "    cur.execute(\"ALTER TABLE imdb\\\n",
    "        ALTER COLUMN votes TYPE varchar;\")\n",
    "except psycopg2.Error as e:\n",
    "    print(e)"
   ]
  },
  {
   "cell_type": "code",
   "execution_count": 56,
   "metadata": {},
   "outputs": [],
   "source": [
    "# Let's rerun our insertion query\n",
    "\n",
    "try:\n",
    "    for i in range(len(imdb_5)):\n",
    "        cur.execute(\"INSERT INTO imdb (movie_name, year_of_release, category, run_time, genre, imdb_rating, votes, gross_total)\\\n",
    "            VALUES (%s, %s, %s, %s, %s, %s, %s, %s)\", tuple(imdb_5.iloc[i].values))\n",
    "except psycopg2.Error as e:\n",
    "    print(\"Error: Inserting Rows\")\n",
    "    print(e)"
   ]
  },
  {
   "cell_type": "code",
   "execution_count": null,
   "metadata": {},
   "outputs": [],
   "source": [
    "# Alternatively\n",
    "\n",
    "try:\n",
    "    for i, row in imdb.iterrows():    \n",
    "        cur.execute(\"\"\"INSERT INTO imdb (\n",
    "            movie_name, year_of_release, category, run_time, genre, imdb_rating, votes, gross_total)\\\n",
    "                VALUES (%s, %s, %s, %s, %s, %s, %s, %s)\"\"\", list(row))\n",
    "except psycopg2.Error as e:\n",
    "    print(e)\n",
    "\n",
    "conn.commit()"
   ]
  },
  {
   "cell_type": "code",
   "execution_count": null,
   "metadata": {},
   "outputs": [],
   "source": [
    "# Let's view our table\n",
    "\n",
    "row = cur.fetchone()\n",
    "while row:\n",
    "    print(row)\n",
    "    row = cur.fetchone()"
   ]
  },
  {
   "attachments": {},
   "cell_type": "markdown",
   "metadata": {},
   "source": [
    "That brings us to the end of this exercise. \n",
    "\n",
    "Below is a confirmation of our steps on the IMDB dataset from the Shell terminal.\n",
    "\n",
    "<img src=\"Images/img_4.png\" width=800 height=400 />"
   ]
  }
 ],
 "metadata": {
  "kernelspec": {
   "display_name": "Python 3",
   "language": "python",
   "name": "python3"
  },
  "language_info": {
   "codemirror_mode": {
    "name": "ipython",
    "version": 3
   },
   "file_extension": ".py",
   "mimetype": "text/x-python",
   "name": "python",
   "nbconvert_exporter": "python",
   "pygments_lexer": "ipython3",
   "version": "3.10.7 (tags/v3.10.7:6cc6b13, Sep  5 2022, 14:08:36) [MSC v.1933 64 bit (AMD64)]"
  },
  "orig_nbformat": 4,
  "vscode": {
   "interpreter": {
    "hash": "a586cb0caf9ac5c7510ef4360959a3322fe4237390a81f35a3a433c2fbeffc3f"
   }
  }
 },
 "nbformat": 4,
 "nbformat_minor": 2
}
